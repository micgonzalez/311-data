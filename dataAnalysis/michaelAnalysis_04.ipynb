{
 "cells": [
  {
   "cell_type": "markdown",
   "metadata": {},
   "source": [
    "# Comparing cities with high service requests in Los Angeles' 311 2020 data  "
   ]
  },
  {
   "cell_type": "markdown",
   "metadata": {},
   "source": [
    "Michael Gonzalez\n",
    "\n",
    "This notebook will be another exploration of Los Angeles' 311 data with the focus on comparing two cities that have high service requests. The first city is Boyle Heights with the NC of 50. The second city is South Los Angeles, also known as south central with the NC of 78. Once again, I will be looking at the closed status of each requests with the created and serviced dates for the two cities. The data will be loaded into dataframes and pandas with the datetime libraries. The plots will be created from the seaborn and matplotlib libraries, just like the previous analysis."
   ]
  },
  {
   "cell_type": "markdown",
   "metadata": {},
   "source": [
    "## Breif Overview "
   ]
  },
  {
   "cell_type": "markdown",
   "metadata": {},
   "source": [
    "I will need to import useful libraries to timestamp and profile data to discover insights. This project benefited from looking for insights in the closing rate of the open requests. The data is orgainzed and has many useful columns to experiment with new ideas. The focus of this project is is comparing two cities that have the highest service requests for 2020. The cities that we will be looking at are Boyle Heights and South Los Angeles. I will include a bar chart that lead me to these two cities."
   ]
  },
  {
   "cell_type": "code",
   "execution_count": 13,
   "metadata": {},
   "outputs": [
    {
     "data": {
      "text/html": [
       "<div>\n",
       "<style scoped>\n",
       "    .dataframe tbody tr th:only-of-type {\n",
       "        vertical-align: middle;\n",
       "    }\n",
       "\n",
       "    .dataframe tbody tr th {\n",
       "        vertical-align: top;\n",
       "    }\n",
       "\n",
       "    .dataframe thead th {\n",
       "        text-align: right;\n",
       "    }\n",
       "</style>\n",
       "<table border=\"1\" class=\"dataframe\">\n",
       "  <thead>\n",
       "    <tr style=\"text-align: right;\">\n",
       "      <th></th>\n",
       "      <th>SRNumber</th>\n",
       "      <th>CreatedDate</th>\n",
       "      <th>UpdatedDate</th>\n",
       "      <th>ActionTaken</th>\n",
       "      <th>Owner</th>\n",
       "      <th>RequestType</th>\n",
       "      <th>Status</th>\n",
       "      <th>RequestSource</th>\n",
       "      <th>CreatedByUserOrganization</th>\n",
       "      <th>MobileOS</th>\n",
       "      <th>...</th>\n",
       "      <th>Location</th>\n",
       "      <th>TBMPage</th>\n",
       "      <th>TBMColumn</th>\n",
       "      <th>TBMRow</th>\n",
       "      <th>APC</th>\n",
       "      <th>CD</th>\n",
       "      <th>CDMember</th>\n",
       "      <th>NC</th>\n",
       "      <th>NCName</th>\n",
       "      <th>PolicePrecinct</th>\n",
       "    </tr>\n",
       "  </thead>\n",
       "  <tbody>\n",
       "    <tr>\n",
       "      <th>0</th>\n",
       "      <td>1-1523593381</td>\n",
       "      <td>01/01/2020 12:02:00 AM</td>\n",
       "      <td>01/07/2020 12:19:00 PM</td>\n",
       "      <td>SR Created</td>\n",
       "      <td>BOS</td>\n",
       "      <td>Illegal Dumping Pickup</td>\n",
       "      <td>Closed</td>\n",
       "      <td>Call</td>\n",
       "      <td>BOS</td>\n",
       "      <td>NaN</td>\n",
       "      <td>...</td>\n",
       "      <td>(33.988984265, -118.302681205)</td>\n",
       "      <td>673.0</td>\n",
       "      <td>J</td>\n",
       "      <td>5.0</td>\n",
       "      <td>South Los Angeles APC</td>\n",
       "      <td>8.0</td>\n",
       "      <td>Marqueece Harris-Dawson</td>\n",
       "      <td>81.0</td>\n",
       "      <td>EMPOWERMENT CONGRESS CENTRAL AREA NDC</td>\n",
       "      <td>77TH STREET</td>\n",
       "    </tr>\n",
       "    <tr>\n",
       "      <th>1</th>\n",
       "      <td>1-1523590121</td>\n",
       "      <td>01/01/2020 12:05:00 AM</td>\n",
       "      <td>01/02/2020 08:43:00 AM</td>\n",
       "      <td>SR Created</td>\n",
       "      <td>BOS</td>\n",
       "      <td>Illegal Dumping Pickup</td>\n",
       "      <td>Closed</td>\n",
       "      <td>Call</td>\n",
       "      <td>BOS</td>\n",
       "      <td>NaN</td>\n",
       "      <td>...</td>\n",
       "      <td>(34.1940284578, -118.499471638)</td>\n",
       "      <td>531.0</td>\n",
       "      <td>D</td>\n",
       "      <td>6.0</td>\n",
       "      <td>South Valley APC</td>\n",
       "      <td>6.0</td>\n",
       "      <td>Nury Martinez</td>\n",
       "      <td>19.0</td>\n",
       "      <td>LAKE BALBOA NC</td>\n",
       "      <td>WEST VALLEY</td>\n",
       "    </tr>\n",
       "    <tr>\n",
       "      <th>2</th>\n",
       "      <td>1-1523596201</td>\n",
       "      <td>01/01/2020 12:16:00 AM</td>\n",
       "      <td>01/02/2020 03:13:00 PM</td>\n",
       "      <td>SR Created</td>\n",
       "      <td>OCB</td>\n",
       "      <td>Graffiti Removal</td>\n",
       "      <td>Closed</td>\n",
       "      <td>Mobile App</td>\n",
       "      <td>Self Service</td>\n",
       "      <td>Android</td>\n",
       "      <td>...</td>\n",
       "      <td>(34.0117235893, -118.312764174)</td>\n",
       "      <td>673.0</td>\n",
       "      <td>H</td>\n",
       "      <td>2.0</td>\n",
       "      <td>South Los Angeles APC</td>\n",
       "      <td>8.0</td>\n",
       "      <td>Marqueece Harris-Dawson</td>\n",
       "      <td>77.0</td>\n",
       "      <td>EMPOWERMENT CONGRESS NORTH AREA NDC</td>\n",
       "      <td>SOUTHWEST</td>\n",
       "    </tr>\n",
       "    <tr>\n",
       "      <th>3</th>\n",
       "      <td>1-1523596222</td>\n",
       "      <td>01/01/2020 12:19:00 AM</td>\n",
       "      <td>01/03/2020 07:02:00 AM</td>\n",
       "      <td>SR Created</td>\n",
       "      <td>BOS</td>\n",
       "      <td>Bulky Items</td>\n",
       "      <td>Closed</td>\n",
       "      <td>Mobile App</td>\n",
       "      <td>Self Service</td>\n",
       "      <td>Android</td>\n",
       "      <td>...</td>\n",
       "      <td>(34.0724397675, -118.287797874)</td>\n",
       "      <td>634.0</td>\n",
       "      <td>A</td>\n",
       "      <td>1.0</td>\n",
       "      <td>Central APC</td>\n",
       "      <td>13.0</td>\n",
       "      <td>Mitch O'Farrell</td>\n",
       "      <td>53.0</td>\n",
       "      <td>RAMPART VILLAGE NC</td>\n",
       "      <td>OLYMPIC</td>\n",
       "    </tr>\n",
       "    <tr>\n",
       "      <th>4</th>\n",
       "      <td>1-1523591123</td>\n",
       "      <td>01/01/2020 12:21:00 AM</td>\n",
       "      <td>01/03/2020 03:54:00 PM</td>\n",
       "      <td>SR Created</td>\n",
       "      <td>BOS</td>\n",
       "      <td>Metal/Household Appliances</td>\n",
       "      <td>Closed</td>\n",
       "      <td>Mobile App</td>\n",
       "      <td>Self Service</td>\n",
       "      <td>Android</td>\n",
       "      <td>...</td>\n",
       "      <td>(34.0724397675, -118.287797874)</td>\n",
       "      <td>634.0</td>\n",
       "      <td>A</td>\n",
       "      <td>1.0</td>\n",
       "      <td>Central APC</td>\n",
       "      <td>13.0</td>\n",
       "      <td>Mitch O'Farrell</td>\n",
       "      <td>53.0</td>\n",
       "      <td>RAMPART VILLAGE NC</td>\n",
       "      <td>OLYMPIC</td>\n",
       "    </tr>\n",
       "  </tbody>\n",
       "</table>\n",
       "<p>5 rows × 34 columns</p>\n",
       "</div>"
      ],
      "text/plain": [
       "       SRNumber             CreatedDate             UpdatedDate ActionTaken  \\\n",
       "0  1-1523593381  01/01/2020 12:02:00 AM  01/07/2020 12:19:00 PM  SR Created   \n",
       "1  1-1523590121  01/01/2020 12:05:00 AM  01/02/2020 08:43:00 AM  SR Created   \n",
       "2  1-1523596201  01/01/2020 12:16:00 AM  01/02/2020 03:13:00 PM  SR Created   \n",
       "3  1-1523596222  01/01/2020 12:19:00 AM  01/03/2020 07:02:00 AM  SR Created   \n",
       "4  1-1523591123  01/01/2020 12:21:00 AM  01/03/2020 03:54:00 PM  SR Created   \n",
       "\n",
       "  Owner                 RequestType  Status RequestSource  \\\n",
       "0   BOS      Illegal Dumping Pickup  Closed          Call   \n",
       "1   BOS      Illegal Dumping Pickup  Closed          Call   \n",
       "2   OCB            Graffiti Removal  Closed    Mobile App   \n",
       "3   BOS                 Bulky Items  Closed    Mobile App   \n",
       "4   BOS  Metal/Household Appliances  Closed    Mobile App   \n",
       "\n",
       "  CreatedByUserOrganization MobileOS  ...                         Location  \\\n",
       "0                       BOS      NaN  ...   (33.988984265, -118.302681205)   \n",
       "1                       BOS      NaN  ...  (34.1940284578, -118.499471638)   \n",
       "2              Self Service  Android  ...  (34.0117235893, -118.312764174)   \n",
       "3              Self Service  Android  ...  (34.0724397675, -118.287797874)   \n",
       "4              Self Service  Android  ...  (34.0724397675, -118.287797874)   \n",
       "\n",
       "  TBMPage TBMColumn TBMRow                    APC    CD  \\\n",
       "0   673.0         J    5.0  South Los Angeles APC   8.0   \n",
       "1   531.0         D    6.0       South Valley APC   6.0   \n",
       "2   673.0         H    2.0  South Los Angeles APC   8.0   \n",
       "3   634.0         A    1.0            Central APC  13.0   \n",
       "4   634.0         A    1.0            Central APC  13.0   \n",
       "\n",
       "                  CDMember    NC                                 NCName  \\\n",
       "0  Marqueece Harris-Dawson  81.0  EMPOWERMENT CONGRESS CENTRAL AREA NDC   \n",
       "1            Nury Martinez  19.0                         LAKE BALBOA NC   \n",
       "2  Marqueece Harris-Dawson  77.0    EMPOWERMENT CONGRESS NORTH AREA NDC   \n",
       "3          Mitch O'Farrell  53.0                     RAMPART VILLAGE NC   \n",
       "4          Mitch O'Farrell  53.0                     RAMPART VILLAGE NC   \n",
       "\n",
       "  PolicePrecinct  \n",
       "0    77TH STREET  \n",
       "1    WEST VALLEY  \n",
       "2      SOUTHWEST  \n",
       "3        OLYMPIC  \n",
       "4        OLYMPIC  \n",
       "\n",
       "[5 rows x 34 columns]"
      ]
     },
     "execution_count": 13,
     "metadata": {},
     "output_type": "execute_result"
    }
   ],
   "source": [
    "# Importing needed libraries.\n",
    "import pandas as pd\n",
    "import numpy as np\n",
    "import pandas_profiling\n",
    "from datetime import datetime\n",
    "import matplotlib.pyplot as plt\n",
    "import seaborn as sns\n",
    "%matplotlib inline\n",
    "\n",
    "# Loading the data into a Data Frame.\n",
    "dfb = pd.read_csv('...\\my311_data_analysis\\MyLA311_Service_Request_Data_2020.csv')\n",
    "\n",
    "# Displaying the top five rows of data.\n",
    "dfb.head()"
   ]
  },
  {
   "cell_type": "markdown",
   "metadata": {},
   "source": [
    "## Exploratory Data Analysis "
   ]
  },
  {
   "cell_type": "markdown",
   "metadata": {},
   "source": [
    "In this section, I will include the bar chart that represented the count of the highest service requests for Los Angeles. Then I will looking for insights based on the service closed dates and other insights. Creating new variables that represents the CreatedDate, ClosedDate, and ServiceDate columns for a description of the data."
   ]
  },
  {
   "cell_type": "code",
   "execution_count": 14,
   "metadata": {},
   "outputs": [
    {
     "data": {
      "text/plain": [
       "Text(0, 0.5, 'Count of service requests')"
      ]
     },
     "execution_count": 14,
     "metadata": {},
     "output_type": "execute_result"
    },
    {
     "data": {
      "image/png": "[encoded data removed]",
      "text/plain": [
       "<Figure size 1008x576 with 1 Axes>"
      ]
     },
     "metadata": {
      "needs_background": "light"
     },
     "output_type": "display_data"
    }
   ],
   "source": [
    "# Plotting a bar chart that will display the cities with the highest service request.\n",
    "ax = dfb['NC'].value_counts().plot(kind = 'bar',\n",
    "                                    figsize = (14, 8),\n",
    "                                    fontsize = 7,\n",
    "                                    title = \"Los Angeles cities with the highest serivce requests\")\n",
    "ax.set_xlabel(\"NC of Los Angeles Cities\")\n",
    "ax.set_ylabel(\"Count of service requests\")"
   ]
  },
  {
   "cell_type": "code",
   "execution_count": 15,
   "metadata": {},
   "outputs": [],
   "source": [
    "# Creating a new variable that represents the listed columns with timestamp information.\n",
    "dfb['CreatedDate'] = pd.to_datetime(dfb['CreatedDate'], errors = 'coerce')\n",
    "dfb['ClosedDate'] = pd.to_datetime(dfb['ClosedDate'], errors = 'coerce')\n",
    "dfb['ServiceDate'] = pd.to_datetime(dfb['ServiceDate'], errors = 'coerce')"
   ]
  },
  {
   "cell_type": "code",
   "execution_count": 16,
   "metadata": {},
   "outputs": [],
   "source": [
    "# Continuing the previous step.\n",
    "dfb['closed_created'] = dfb.ClosedDate - dfb.CreatedDate\n",
    "dfb['service_created'] = dfb.ServiceDate - dfb.CreatedDate"
   ]
  },
  {
   "cell_type": "code",
   "execution_count": 17,
   "metadata": {},
   "outputs": [
    {
     "data": {
      "text/plain": [
       "6278"
      ]
     },
     "execution_count": 17,
     "metadata": {},
     "output_type": "execute_result"
    }
   ],
   "source": [
    "# Checking the data for the sum of null values.\n",
    "dfb.closed_created.isna().sum()"
   ]
  },
  {
   "cell_type": "code",
   "execution_count": 18,
   "metadata": {},
   "outputs": [
    {
     "data": {
      "text/plain": [
       "(1491773, 36)"
      ]
     },
     "execution_count": 18,
     "metadata": {},
     "output_type": "execute_result"
    }
   ],
   "source": [
    "# Checking the shape of the data.\n",
    "dfb.shape"
   ]
  },
  {
   "cell_type": "markdown",
   "metadata": {},
   "source": [
    "## Checking the min ration of closed status for Boyle Heights & South Los Angeles "
   ]
  },
  {
   "cell_type": "code",
   "execution_count": 19,
   "metadata": {},
   "outputs": [
    {
     "data": {
      "text/plain": [
       "0.04173611111111111"
      ]
     },
     "execution_count": 19,
     "metadata": {},
     "output_type": "execute_result"
    }
   ],
   "source": [
    "# Checking the min ratio of a new column that has a closed status for NC 50 (Boyle Heights).\n",
    "dfb['closed_createdD'] = dfb.closed_created / pd.Timedelta(days = 1)\n",
    "dfbBH = dfb[(dfb.closed_createdD > (1.0 / 24.0)) & (dfb.Status == 'Closed') & (dfb.NC == 50)][['closed_createdD', 'RequestType']]\n",
    "dfbBH.closed_createdD.min()"
   ]
  },
  {
   "cell_type": "markdown",
   "metadata": {},
   "source": [
    "There is still a minimum of 4% of open requests in Boyle Heights that has a closed status. This is similar to the results of Downtown Los Angeles. Now I will check for South Los Angeles."
   ]
  },
  {
   "cell_type": "code",
   "execution_count": 20,
   "metadata": {},
   "outputs": [
    {
     "data": {
      "text/plain": [
       "0.04172453703703704"
      ]
     },
     "execution_count": 20,
     "metadata": {},
     "output_type": "execute_result"
    }
   ],
   "source": [
    "# Checking the min ratio of a new column that has a closed status for NC 78 (South Los Angeles).\n",
    "dfb['closed_createdD'] = dfb.closed_created / pd.Timedelta(days = 1)\n",
    "dfbSLA = dfb[(dfb.closed_createdD > (1.0 / 24.0)) & (dfb.Status == 'Closed') & (dfb.NC == 78)][['closed_createdD', 'RequestType']]\n",
    "dfbSLA.closed_createdD.min()"
   ]
  },
  {
   "cell_type": "markdown",
   "metadata": {},
   "source": [
    "Again, a minimum of 4% of open requests in South Los Angeles that has a closed status. It is a little lower than in Boyle Heights. Now, it is time to check the averages and color values for both cities."
   ]
  },
  {
   "cell_type": "markdown",
   "metadata": {},
   "source": [
    "## Checking the averages and color values for Boyle Heights & South Los Angeles "
   ]
  },
  {
   "cell_type": "code",
   "execution_count": 21,
   "metadata": {},
   "outputs": [
    {
     "data": {
      "text/html": [
       "<div>\n",
       "<style scoped>\n",
       "    .dataframe tbody tr th:only-of-type {\n",
       "        vertical-align: middle;\n",
       "    }\n",
       "\n",
       "    .dataframe tbody tr th {\n",
       "        vertical-align: top;\n",
       "    }\n",
       "\n",
       "    .dataframe thead tr th {\n",
       "        text-align: left;\n",
       "    }\n",
       "</style>\n",
       "<table border=\"1\" class=\"dataframe\">\n",
       "  <thead>\n",
       "    <tr>\n",
       "      <th></th>\n",
       "      <th>RequestType</th>\n",
       "      <th colspan=\"2\" halign=\"left\">closed_createdD</th>\n",
       "    </tr>\n",
       "    <tr>\n",
       "      <th></th>\n",
       "      <th></th>\n",
       "      <th>mean</th>\n",
       "      <th>std</th>\n",
       "    </tr>\n",
       "  </thead>\n",
       "  <tbody>\n",
       "    <tr>\n",
       "      <th>0</th>\n",
       "      <td>Bulky Items</td>\n",
       "      <td>4.340000</td>\n",
       "      <td>12.882269</td>\n",
       "    </tr>\n",
       "    <tr>\n",
       "      <th>1</th>\n",
       "      <td>Dead Animal Removal</td>\n",
       "      <td>0.851793</td>\n",
       "      <td>2.981436</td>\n",
       "    </tr>\n",
       "    <tr>\n",
       "      <th>2</th>\n",
       "      <td>Electronic Waste</td>\n",
       "      <td>3.437135</td>\n",
       "      <td>6.260174</td>\n",
       "    </tr>\n",
       "    <tr>\n",
       "      <th>3</th>\n",
       "      <td>Feedback</td>\n",
       "      <td>5.912865</td>\n",
       "      <td>7.054037</td>\n",
       "    </tr>\n",
       "    <tr>\n",
       "      <th>4</th>\n",
       "      <td>Graffiti Removal</td>\n",
       "      <td>7.239122</td>\n",
       "      <td>22.855790</td>\n",
       "    </tr>\n",
       "    <tr>\n",
       "      <th>5</th>\n",
       "      <td>Homeless Encampment</td>\n",
       "      <td>56.384177</td>\n",
       "      <td>91.033574</td>\n",
       "    </tr>\n",
       "    <tr>\n",
       "      <th>6</th>\n",
       "      <td>Illegal Dumping Pickup</td>\n",
       "      <td>11.073418</td>\n",
       "      <td>35.119882</td>\n",
       "    </tr>\n",
       "    <tr>\n",
       "      <th>7</th>\n",
       "      <td>Metal/Household Appliances</td>\n",
       "      <td>3.535390</td>\n",
       "      <td>8.852706</td>\n",
       "    </tr>\n",
       "    <tr>\n",
       "      <th>8</th>\n",
       "      <td>Multiple Streetlight Issue</td>\n",
       "      <td>20.327716</td>\n",
       "      <td>29.973225</td>\n",
       "    </tr>\n",
       "    <tr>\n",
       "      <th>9</th>\n",
       "      <td>Other</td>\n",
       "      <td>1.983501</td>\n",
       "      <td>4.016099</td>\n",
       "    </tr>\n",
       "    <tr>\n",
       "      <th>10</th>\n",
       "      <td>Single Streetlight Issue</td>\n",
       "      <td>19.368312</td>\n",
       "      <td>32.994399</td>\n",
       "    </tr>\n",
       "  </tbody>\n",
       "</table>\n",
       "</div>"
      ],
      "text/plain": [
       "                   RequestType closed_createdD           \n",
       "                                          mean        std\n",
       "0                  Bulky Items        4.340000  12.882269\n",
       "1          Dead Animal Removal        0.851793   2.981436\n",
       "2             Electronic Waste        3.437135   6.260174\n",
       "3                     Feedback        5.912865   7.054037\n",
       "4             Graffiti Removal        7.239122  22.855790\n",
       "5          Homeless Encampment       56.384177  91.033574\n",
       "6       Illegal Dumping Pickup       11.073418  35.119882\n",
       "7   Metal/Household Appliances        3.535390   8.852706\n",
       "8   Multiple Streetlight Issue       20.327716  29.973225\n",
       "9                        Other        1.983501   4.016099\n",
       "10    Single Streetlight Issue       19.368312  32.994399"
      ]
     },
     "execution_count": 21,
     "metadata": {},
     "output_type": "execute_result"
    }
   ],
   "source": [
    "# Comparing the averages of request types with the new column closed_createdD for NC 50 (Boyle Heights).\n",
    "dfbBHavg = dfbBH.groupby(['RequestType']).agg(['mean', 'std']).reset_index().sort_values(by = ['RequestType'])\n",
    "dfbBHavg"
   ]
  },
  {
   "cell_type": "code",
   "execution_count": 23,
   "metadata": {},
   "outputs": [
    {
     "data": {
      "text/html": [
       "<div>\n",
       "<style scoped>\n",
       "    .dataframe tbody tr th:only-of-type {\n",
       "        vertical-align: middle;\n",
       "    }\n",
       "\n",
       "    .dataframe tbody tr th {\n",
       "        vertical-align: top;\n",
       "    }\n",
       "\n",
       "    .dataframe thead tr th {\n",
       "        text-align: left;\n",
       "    }\n",
       "</style>\n",
       "<table border=\"1\" class=\"dataframe\">\n",
       "  <thead>\n",
       "    <tr>\n",
       "      <th></th>\n",
       "      <th>RequestType</th>\n",
       "      <th colspan=\"2\" halign=\"left\">closed_createdD</th>\n",
       "      <th>colorvals</th>\n",
       "    </tr>\n",
       "    <tr>\n",
       "      <th></th>\n",
       "      <th></th>\n",
       "      <th>mean</th>\n",
       "      <th>std</th>\n",
       "      <th></th>\n",
       "    </tr>\n",
       "  </thead>\n",
       "  <tbody>\n",
       "    <tr>\n",
       "      <th>0</th>\n",
       "      <td>Bulky Items</td>\n",
       "      <td>4.340000</td>\n",
       "      <td>12.882269</td>\n",
       "      <td>(0.00392156862745098, 0.45098039215686275, 0.6...</td>\n",
       "    </tr>\n",
       "    <tr>\n",
       "      <th>1</th>\n",
       "      <td>Dead Animal Removal</td>\n",
       "      <td>0.851793</td>\n",
       "      <td>2.981436</td>\n",
       "      <td>(0.8705882352941177, 0.5607843137254902, 0.019...</td>\n",
       "    </tr>\n",
       "    <tr>\n",
       "      <th>2</th>\n",
       "      <td>Electronic Waste</td>\n",
       "      <td>3.437135</td>\n",
       "      <td>6.260174</td>\n",
       "      <td>(0.00784313725490196, 0.6196078431372549, 0.45...</td>\n",
       "    </tr>\n",
       "    <tr>\n",
       "      <th>3</th>\n",
       "      <td>Feedback</td>\n",
       "      <td>5.912865</td>\n",
       "      <td>7.054037</td>\n",
       "      <td>(0.8352941176470589, 0.3686274509803922, 0.0)</td>\n",
       "    </tr>\n",
       "    <tr>\n",
       "      <th>4</th>\n",
       "      <td>Graffiti Removal</td>\n",
       "      <td>7.239122</td>\n",
       "      <td>22.855790</td>\n",
       "      <td>(0.8, 0.47058823529411764, 0.7372549019607844)</td>\n",
       "    </tr>\n",
       "    <tr>\n",
       "      <th>5</th>\n",
       "      <td>Homeless Encampment</td>\n",
       "      <td>56.384177</td>\n",
       "      <td>91.033574</td>\n",
       "      <td>(0.792156862745098, 0.5686274509803921, 0.3803...</td>\n",
       "    </tr>\n",
       "    <tr>\n",
       "      <th>6</th>\n",
       "      <td>Illegal Dumping Pickup</td>\n",
       "      <td>11.073418</td>\n",
       "      <td>35.119882</td>\n",
       "      <td>(0.984313725490196, 0.6862745098039216, 0.8941...</td>\n",
       "    </tr>\n",
       "    <tr>\n",
       "      <th>7</th>\n",
       "      <td>Metal/Household Appliances</td>\n",
       "      <td>3.535390</td>\n",
       "      <td>8.852706</td>\n",
       "      <td>(0.5803921568627451, 0.5803921568627451, 0.580...</td>\n",
       "    </tr>\n",
       "    <tr>\n",
       "      <th>8</th>\n",
       "      <td>Multiple Streetlight Issue</td>\n",
       "      <td>20.327716</td>\n",
       "      <td>29.973225</td>\n",
       "      <td>(0.9254901960784314, 0.8823529411764706, 0.2)</td>\n",
       "    </tr>\n",
       "    <tr>\n",
       "      <th>9</th>\n",
       "      <td>Other</td>\n",
       "      <td>1.983501</td>\n",
       "      <td>4.016099</td>\n",
       "      <td>(0.33725490196078434, 0.7058823529411765, 0.91...</td>\n",
       "    </tr>\n",
       "    <tr>\n",
       "      <th>10</th>\n",
       "      <td>Single Streetlight Issue</td>\n",
       "      <td>19.368312</td>\n",
       "      <td>32.994399</td>\n",
       "      <td>(0.00392156862745098, 0.45098039215686275, 0.6...</td>\n",
       "    </tr>\n",
       "  </tbody>\n",
       "</table>\n",
       "</div>"
      ],
      "text/plain": [
       "                   RequestType closed_createdD             \\\n",
       "                                          mean        std   \n",
       "0                  Bulky Items        4.340000  12.882269   \n",
       "1          Dead Animal Removal        0.851793   2.981436   \n",
       "2             Electronic Waste        3.437135   6.260174   \n",
       "3                     Feedback        5.912865   7.054037   \n",
       "4             Graffiti Removal        7.239122  22.855790   \n",
       "5          Homeless Encampment       56.384177  91.033574   \n",
       "6       Illegal Dumping Pickup       11.073418  35.119882   \n",
       "7   Metal/Household Appliances        3.535390   8.852706   \n",
       "8   Multiple Streetlight Issue       20.327716  29.973225   \n",
       "9                        Other        1.983501   4.016099   \n",
       "10    Single Streetlight Issue       19.368312  32.994399   \n",
       "\n",
       "                                            colorvals  \n",
       "                                                       \n",
       "0   (0.00392156862745098, 0.45098039215686275, 0.6...  \n",
       "1   (0.8705882352941177, 0.5607843137254902, 0.019...  \n",
       "2   (0.00784313725490196, 0.6196078431372549, 0.45...  \n",
       "3       (0.8352941176470589, 0.3686274509803922, 0.0)  \n",
       "4      (0.8, 0.47058823529411764, 0.7372549019607844)  \n",
       "5   (0.792156862745098, 0.5686274509803921, 0.3803...  \n",
       "6   (0.984313725490196, 0.6862745098039216, 0.8941...  \n",
       "7   (0.5803921568627451, 0.5803921568627451, 0.580...  \n",
       "8       (0.9254901960784314, 0.8823529411764706, 0.2)  \n",
       "9   (0.33725490196078434, 0.7058823529411765, 0.91...  \n",
       "10  (0.00392156862745098, 0.45098039215686275, 0.6...  "
      ]
     },
     "execution_count": 23,
     "metadata": {},
     "output_type": "execute_result"
    }
   ],
   "source": [
    "# Compairing the request type, closed_createdD with the color values for NC 50 (Boyle Heights).\n",
    "dfbBHavg['colorvals'] = sns.color_palette('colorblind', 11)\n",
    "dfbBHavg"
   ]
  },
  {
   "cell_type": "code",
   "execution_count": 24,
   "metadata": {},
   "outputs": [
    {
     "data": {
      "text/html": [
       "<div>\n",
       "<style scoped>\n",
       "    .dataframe tbody tr th:only-of-type {\n",
       "        vertical-align: middle;\n",
       "    }\n",
       "\n",
       "    .dataframe tbody tr th {\n",
       "        vertical-align: top;\n",
       "    }\n",
       "\n",
       "    .dataframe thead tr th {\n",
       "        text-align: left;\n",
       "    }\n",
       "</style>\n",
       "<table border=\"1\" class=\"dataframe\">\n",
       "  <thead>\n",
       "    <tr>\n",
       "      <th></th>\n",
       "      <th>RequestType</th>\n",
       "      <th colspan=\"2\" halign=\"left\">closed_createdD</th>\n",
       "    </tr>\n",
       "    <tr>\n",
       "      <th></th>\n",
       "      <th></th>\n",
       "      <th>mean</th>\n",
       "      <th>std</th>\n",
       "    </tr>\n",
       "  </thead>\n",
       "  <tbody>\n",
       "    <tr>\n",
       "      <th>0</th>\n",
       "      <td>Bulky Items</td>\n",
       "      <td>4.779649</td>\n",
       "      <td>17.224473</td>\n",
       "    </tr>\n",
       "    <tr>\n",
       "      <th>1</th>\n",
       "      <td>Dead Animal Removal</td>\n",
       "      <td>0.438614</td>\n",
       "      <td>0.418419</td>\n",
       "    </tr>\n",
       "    <tr>\n",
       "      <th>2</th>\n",
       "      <td>Electronic Waste</td>\n",
       "      <td>2.509996</td>\n",
       "      <td>4.219792</td>\n",
       "    </tr>\n",
       "    <tr>\n",
       "      <th>3</th>\n",
       "      <td>Graffiti Removal</td>\n",
       "      <td>2.469910</td>\n",
       "      <td>8.222219</td>\n",
       "    </tr>\n",
       "    <tr>\n",
       "      <th>4</th>\n",
       "      <td>Homeless Encampment</td>\n",
       "      <td>54.951969</td>\n",
       "      <td>61.062844</td>\n",
       "    </tr>\n",
       "    <tr>\n",
       "      <th>5</th>\n",
       "      <td>Illegal Dumping Pickup</td>\n",
       "      <td>14.422841</td>\n",
       "      <td>37.755981</td>\n",
       "    </tr>\n",
       "    <tr>\n",
       "      <th>6</th>\n",
       "      <td>Metal/Household Appliances</td>\n",
       "      <td>2.716196</td>\n",
       "      <td>6.752852</td>\n",
       "    </tr>\n",
       "    <tr>\n",
       "      <th>7</th>\n",
       "      <td>Multiple Streetlight Issue</td>\n",
       "      <td>58.267671</td>\n",
       "      <td>74.668011</td>\n",
       "    </tr>\n",
       "    <tr>\n",
       "      <th>8</th>\n",
       "      <td>Other</td>\n",
       "      <td>1.847854</td>\n",
       "      <td>2.242471</td>\n",
       "    </tr>\n",
       "    <tr>\n",
       "      <th>9</th>\n",
       "      <td>Single Streetlight Issue</td>\n",
       "      <td>29.942672</td>\n",
       "      <td>39.969482</td>\n",
       "    </tr>\n",
       "  </tbody>\n",
       "</table>\n",
       "</div>"
      ],
      "text/plain": [
       "                  RequestType closed_createdD           \n",
       "                                         mean        std\n",
       "0                 Bulky Items        4.779649  17.224473\n",
       "1         Dead Animal Removal        0.438614   0.418419\n",
       "2            Electronic Waste        2.509996   4.219792\n",
       "3            Graffiti Removal        2.469910   8.222219\n",
       "4         Homeless Encampment       54.951969  61.062844\n",
       "5      Illegal Dumping Pickup       14.422841  37.755981\n",
       "6  Metal/Household Appliances        2.716196   6.752852\n",
       "7  Multiple Streetlight Issue       58.267671  74.668011\n",
       "8                       Other        1.847854   2.242471\n",
       "9    Single Streetlight Issue       29.942672  39.969482"
      ]
     },
     "execution_count": 24,
     "metadata": {},
     "output_type": "execute_result"
    }
   ],
   "source": [
    "# Comparing the averages of request types with the new column closed_createdD for NC 78 (South Los Angles).\n",
    "dfbSLAavg = dfbSLA.groupby(['RequestType']).agg(['mean', 'std']).reset_index().sort_values(by = ['RequestType'])\n",
    "dfbSLAavg"
   ]
  },
  {
   "cell_type": "code",
   "execution_count": 25,
   "metadata": {},
   "outputs": [
    {
     "data": {
      "text/html": [
       "<div>\n",
       "<style scoped>\n",
       "    .dataframe tbody tr th:only-of-type {\n",
       "        vertical-align: middle;\n",
       "    }\n",
       "\n",
       "    .dataframe tbody tr th {\n",
       "        vertical-align: top;\n",
       "    }\n",
       "\n",
       "    .dataframe thead tr th {\n",
       "        text-align: left;\n",
       "    }\n",
       "</style>\n",
       "<table border=\"1\" class=\"dataframe\">\n",
       "  <thead>\n",
       "    <tr>\n",
       "      <th></th>\n",
       "      <th>RequestType</th>\n",
       "      <th colspan=\"2\" halign=\"left\">closed_createdD</th>\n",
       "      <th>colorvals</th>\n",
       "    </tr>\n",
       "    <tr>\n",
       "      <th></th>\n",
       "      <th></th>\n",
       "      <th>mean</th>\n",
       "      <th>std</th>\n",
       "      <th></th>\n",
       "    </tr>\n",
       "  </thead>\n",
       "  <tbody>\n",
       "    <tr>\n",
       "      <th>0</th>\n",
       "      <td>Bulky Items</td>\n",
       "      <td>4.779649</td>\n",
       "      <td>17.224473</td>\n",
       "      <td>(0.00392156862745098, 0.45098039215686275, 0.6...</td>\n",
       "    </tr>\n",
       "    <tr>\n",
       "      <th>1</th>\n",
       "      <td>Dead Animal Removal</td>\n",
       "      <td>0.438614</td>\n",
       "      <td>0.418419</td>\n",
       "      <td>(0.8705882352941177, 0.5607843137254902, 0.019...</td>\n",
       "    </tr>\n",
       "    <tr>\n",
       "      <th>2</th>\n",
       "      <td>Electronic Waste</td>\n",
       "      <td>2.509996</td>\n",
       "      <td>4.219792</td>\n",
       "      <td>(0.00784313725490196, 0.6196078431372549, 0.45...</td>\n",
       "    </tr>\n",
       "    <tr>\n",
       "      <th>3</th>\n",
       "      <td>Graffiti Removal</td>\n",
       "      <td>2.469910</td>\n",
       "      <td>8.222219</td>\n",
       "      <td>(0.8352941176470589, 0.3686274509803922, 0.0)</td>\n",
       "    </tr>\n",
       "    <tr>\n",
       "      <th>4</th>\n",
       "      <td>Homeless Encampment</td>\n",
       "      <td>54.951969</td>\n",
       "      <td>61.062844</td>\n",
       "      <td>(0.8, 0.47058823529411764, 0.7372549019607844)</td>\n",
       "    </tr>\n",
       "    <tr>\n",
       "      <th>5</th>\n",
       "      <td>Illegal Dumping Pickup</td>\n",
       "      <td>14.422841</td>\n",
       "      <td>37.755981</td>\n",
       "      <td>(0.792156862745098, 0.5686274509803921, 0.3803...</td>\n",
       "    </tr>\n",
       "    <tr>\n",
       "      <th>6</th>\n",
       "      <td>Metal/Household Appliances</td>\n",
       "      <td>2.716196</td>\n",
       "      <td>6.752852</td>\n",
       "      <td>(0.984313725490196, 0.6862745098039216, 0.8941...</td>\n",
       "    </tr>\n",
       "    <tr>\n",
       "      <th>7</th>\n",
       "      <td>Multiple Streetlight Issue</td>\n",
       "      <td>58.267671</td>\n",
       "      <td>74.668011</td>\n",
       "      <td>(0.5803921568627451, 0.5803921568627451, 0.580...</td>\n",
       "    </tr>\n",
       "    <tr>\n",
       "      <th>8</th>\n",
       "      <td>Other</td>\n",
       "      <td>1.847854</td>\n",
       "      <td>2.242471</td>\n",
       "      <td>(0.9254901960784314, 0.8823529411764706, 0.2)</td>\n",
       "    </tr>\n",
       "    <tr>\n",
       "      <th>9</th>\n",
       "      <td>Single Streetlight Issue</td>\n",
       "      <td>29.942672</td>\n",
       "      <td>39.969482</td>\n",
       "      <td>(0.33725490196078434, 0.7058823529411765, 0.91...</td>\n",
       "    </tr>\n",
       "  </tbody>\n",
       "</table>\n",
       "</div>"
      ],
      "text/plain": [
       "                  RequestType closed_createdD             \\\n",
       "                                         mean        std   \n",
       "0                 Bulky Items        4.779649  17.224473   \n",
       "1         Dead Animal Removal        0.438614   0.418419   \n",
       "2            Electronic Waste        2.509996   4.219792   \n",
       "3            Graffiti Removal        2.469910   8.222219   \n",
       "4         Homeless Encampment       54.951969  61.062844   \n",
       "5      Illegal Dumping Pickup       14.422841  37.755981   \n",
       "6  Metal/Household Appliances        2.716196   6.752852   \n",
       "7  Multiple Streetlight Issue       58.267671  74.668011   \n",
       "8                       Other        1.847854   2.242471   \n",
       "9    Single Streetlight Issue       29.942672  39.969482   \n",
       "\n",
       "                                           colorvals  \n",
       "                                                      \n",
       "0  (0.00392156862745098, 0.45098039215686275, 0.6...  \n",
       "1  (0.8705882352941177, 0.5607843137254902, 0.019...  \n",
       "2  (0.00784313725490196, 0.6196078431372549, 0.45...  \n",
       "3      (0.8352941176470589, 0.3686274509803922, 0.0)  \n",
       "4     (0.8, 0.47058823529411764, 0.7372549019607844)  \n",
       "5  (0.792156862745098, 0.5686274509803921, 0.3803...  \n",
       "6  (0.984313725490196, 0.6862745098039216, 0.8941...  \n",
       "7  (0.5803921568627451, 0.5803921568627451, 0.580...  \n",
       "8      (0.9254901960784314, 0.8823529411764706, 0.2)  \n",
       "9  (0.33725490196078434, 0.7058823529411765, 0.91...  "
      ]
     },
     "execution_count": 25,
     "metadata": {},
     "output_type": "execute_result"
    }
   ],
   "source": [
    "# Compairing the request type, closed_createdD with the color values for NC 78 (South Los Angeles).\n",
    "dfbSLAavg['colorvals'] = sns.color_palette('colorblind', 10)\n",
    "dfbSLAavg"
   ]
  },
  {
   "cell_type": "markdown",
   "metadata": {},
   "source": [
    "## Data Visualizations "
   ]
  },
  {
   "cell_type": "markdown",
   "metadata": {},
   "source": [
    "In this next section of the notebook. I will talk about the visualization of my results. This will include a comparison of different request types for the cities of Boyle Heights and South Los Angeles. The visualizations will display the completion rate of requests related to the service request types."
   ]
  },
  {
   "cell_type": "code",
   "execution_count": 26,
   "metadata": {},
   "outputs": [
    {
     "data": {
      "text/plain": [
       "[Text(0, 0.5, ''),\n",
       " Text(0.5, 0, 'Days to Completion'),\n",
       " Text(0.5, 1.0, 'The most completed requests in Boyle Heights')]"
      ]
     },
     "execution_count": 26,
     "metadata": {},
     "output_type": "execute_result"
    },
    {
     "data": {
      "image/png": "[encoded data removed]",
      "text/plain": [
       "<Figure size 864x720 with 1 Axes>"
      ]
     },
     "metadata": {
      "needs_background": "light"
     },
     "output_type": "display_data"
    }
   ],
   "source": [
    "# Plotting a stacked bar chart of camparing the completion time with other requests for NC 50 (Boyle Heights).\n",
    "plt.figure(figsize = (12, 10))\n",
    "sns.set_style(\"white\")\n",
    "sns.set_context(\"talk\")\n",
    "ax = sns.barplot(y = 'RequestType', x = 'closed_createdD', data = dfbBH, order = dfbBHavg.RequestType, palette = list(dfbBHavg.colorvals))\n",
    "bh_plot = ax.set(xlabel = 'Days to Completion', title = 'The most completed requests in Boyle Heights', ylabel = '')\n",
    "bh_plot"
   ]
  },
  {
   "cell_type": "code",
   "execution_count": 27,
   "metadata": {},
   "outputs": [
    {
     "data": {
      "text/plain": [
       "[Text(0, 0.5, ''),\n",
       " Text(0.5, 0, 'Days to Completion'),\n",
       " Text(0.5, 1.0, 'The most completed requests in South Los Angeles')]"
      ]
     },
     "execution_count": 27,
     "metadata": {},
     "output_type": "execute_result"
    },
    {
     "data": {
      "image/png": "[encoded data removed]",
      "text/plain": [
       "<Figure size 864x720 with 1 Axes>"
      ]
     },
     "metadata": {},
     "output_type": "display_data"
    }
   ],
   "source": [
    "# Plotting a stacked bar chart of camparing the completion time with other requests for NC 78 (South Los Angeles).\n",
    "plt.figure(figsize = (12, 10))\n",
    "sns.set_style(\"white\")\n",
    "sns.set_context(\"talk\")\n",
    "ax = sns.barplot(y = 'RequestType', x = 'closed_createdD', data = dfbSLA, order = dfbSLAavg.RequestType, palette = list(dfbSLAavg.colorvals))\n",
    "sla_plot = ax.set(xlabel = 'Days to Completion', title = 'The most completed requests in South Los Angeles', ylabel = '')\n",
    "sla_plot"
   ]
  },
  {
   "cell_type": "markdown",
   "metadata": {},
   "source": [
    "## Conclusion "
   ]
  },
  {
   "cell_type": "markdown",
   "metadata": {},
   "source": [
    "After comparing the stacked bar chart for Boyle Heights with South Los Angeles. I was able to see some similarities, such as dead animal removal request was the fastest to complete for both cities. Another similarity was the three requests that took the longest to complete for both cities, which are homeless encampment, multiple streetlight issue and single streetlight issue. \n",
    "\n",
    "Even though, both cities have the same request types. In Boyle Heights, the homeless encampment service request type took the longest to complete and it shows that it is an ongoing issue. Switching to South Los Angeles, the multiple streetlight issue service request type took the longest to complete. The ongoing issue to complete the mulitple streetlight issue could be based on many factors, such as not having any available workers or replacement parts."
   ]
  }
 ],
 "metadata": {
  "kernelspec": {
   "display_name": "Python 3",
   "language": "python",
   "name": "python3"
  },
  "language_info": {
   "codemirror_mode": {
    "name": "ipython",
    "version": 3
   },
   "file_extension": ".py",
   "mimetype": "text/x-python",
   "name": "python",
   "nbconvert_exporter": "python",
   "pygments_lexer": "ipython3",
   "version": "3.6.10"
  }
 },
 "nbformat": 4,
 "nbformat_minor": 4
}
